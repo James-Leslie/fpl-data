{
 "cells": [
  {
   "attachments": {},
   "cell_type": "markdown",
   "metadata": {},
   "source": [
    "# How to save data from FPL API into MongoDB"
   ]
  },
  {
   "cell_type": "code",
   "execution_count": 1,
   "metadata": {},
   "outputs": [],
   "source": [
    "import config\n",
    "import requests\n",
    "import time\n",
    "from pprint import pprint\n",
    "from pymongo import MongoClient\n",
    "from tqdm.auto import tqdm"
   ]
  },
  {
   "cell_type": "code",
   "execution_count": 2,
   "metadata": {},
   "outputs": [],
   "source": [
    "BASE_URL = 'https://fantasy.premierleague.com/api/'\n",
    "API_DATA = requests.get(BASE_URL+'bootstrap-static/').json()"
   ]
  },
  {
   "cell_type": "code",
   "execution_count": 17,
   "metadata": {},
   "outputs": [
    {
     "name": "stdout",
     "output_type": "stream",
     "text": [
      "{'element_stats': [...],\n",
      " 'element_types': [...],\n",
      " 'elements': [...],\n",
      " 'events': [...],\n",
      " 'fixtures': [...],\n",
      " 'game_settings': {...},\n",
      " 'phases': [...],\n",
      " 'teams': [...],\n",
      " 'total_players': 11431471}\n"
     ]
    }
   ],
   "source": [
    "# Bootstrap-static data\n",
    "pprint(API_DATA, depth=1)"
   ]
  },
  {
   "cell_type": "code",
   "execution_count": 18,
   "metadata": {},
   "outputs": [],
   "source": [
    "# connect to MongoDB\n",
    "client = MongoClient(f'mongodb+srv://{config.username}:{config.password}'\n",
    "                     f'@{config.database}/?retryWrites=true&w=majority')\n",
    "db = client.get_database('raw_2022-23')"
   ]
  },
  {
   "cell_type": "code",
   "execution_count": 19,
   "metadata": {},
   "outputs": [],
   "source": [
    "def get_bootstrap_static():\n",
    "    '''Get all data from the bootstrap-static endpoint and update MongoDB\n",
    "    \n",
    "    Bootstrap-static data includes the following:\n",
    "      - elements (players)\n",
    "      - element_types (positions)\n",
    "      - events (gameweeks)\n",
    "      - teams\n",
    "    '''\n",
    "\n",
    "    # delete unnecessary keys\n",
    "    for key in ['element_stats', 'game_settings', 'total_players', 'phases']:\n",
    "        del API_DATA[key]\n",
    "\n",
    "    # iterate over each endpoint\n",
    "    for endpoint in API_DATA.keys():\n",
    "        print(f'Updating {endpoint.upper()} data')\n",
    "        data = API_DATA[endpoint].copy()\n",
    "\n",
    "        # get number of docs, cols in collection\n",
    "        n_docs = db.get_collection(endpoint).count_documents({})\n",
    "        n_cols = len(db[endpoint].find_one({})) if n_docs else 0\n",
    "        print(f'{endpoint} shape: {n_docs} docs X {n_cols} cols')\n",
    "\n",
    "        # update docs in each collection\n",
    "        for row in tqdm(data):\n",
    "            row['_id'] = row.pop('id')  # rename id field\n",
    "            filter_query = {'_id': row['_id']}\n",
    "            update_data = {'$set': row}\n",
    "            db[endpoint].update_one(filter_query, update_data, upsert=True)\n",
    "\n",
    "        # print number of new docs, cols\n",
    "        print(f'Added {db[endpoint].count_documents({}) - n_docs} new docs')\n",
    "        print(f'Added {len(db[endpoint].find_one({})) - n_cols} new cols\\n')\n",
    "\n",
    "    return True"
   ]
  },
  {
   "cell_type": "code",
   "execution_count": 20,
   "metadata": {},
   "outputs": [
    {
     "name": "stdout",
     "output_type": "stream",
     "text": [
      "Updating events data\n",
      "events shape: 38 docs X 23 cols\n"
     ]
    },
    {
     "data": {
      "application/vnd.jupyter.widget-view+json": {
       "model_id": "591dbde46b4f49fa8e7aba8c023fd755",
       "version_major": 2,
       "version_minor": 0
      },
      "text/plain": [
       "  0%|          | 0/38 [00:00<?, ?it/s]"
      ]
     },
     "metadata": {},
     "output_type": "display_data"
    },
    {
     "name": "stdout",
     "output_type": "stream",
     "text": [
      "Added 0 new docs\n",
      "Added 0 new cols\n",
      "\n",
      "Updating teams data\n",
      "teams shape: 20 docs X 21 cols\n"
     ]
    },
    {
     "data": {
      "application/vnd.jupyter.widget-view+json": {
       "model_id": "1ce2ef78f71f4ff4a681e3a32eccee58",
       "version_major": 2,
       "version_minor": 0
      },
      "text/plain": [
       "  0%|          | 0/20 [00:00<?, ?it/s]"
      ]
     },
     "metadata": {},
     "output_type": "display_data"
    },
    {
     "name": "stdout",
     "output_type": "stream",
     "text": [
      "Added 0 new docs\n",
      "Added 0 new cols\n",
      "\n",
      "Updating elements data\n",
      "elements shape: 764 docs X 88 cols\n"
     ]
    },
    {
     "data": {
      "application/vnd.jupyter.widget-view+json": {
       "model_id": "34f12ebd16d34a08b2581b8745c6276b",
       "version_major": 2,
       "version_minor": 0
      },
      "text/plain": [
       "  0%|          | 0/764 [00:00<?, ?it/s]"
      ]
     },
     "metadata": {},
     "output_type": "display_data"
    },
    {
     "name": "stdout",
     "output_type": "stream",
     "text": [
      "Added 0 new docs\n",
      "Added 0 new cols\n",
      "\n",
      "Updating element_types data\n",
      "element_types shape: 4 docs X 11 cols\n"
     ]
    },
    {
     "data": {
      "application/vnd.jupyter.widget-view+json": {
       "model_id": "b2ac58a04e224e0d97e3ccf6218f411c",
       "version_major": 2,
       "version_minor": 0
      },
      "text/plain": [
       "  0%|          | 0/4 [00:00<?, ?it/s]"
      ]
     },
     "metadata": {},
     "output_type": "display_data"
    },
    {
     "name": "stdout",
     "output_type": "stream",
     "text": [
      "Added 0 new docs\n",
      "Added 0 new cols\n",
      "\n",
      "Updating fixtures data\n",
      "fixtures shape: 380 docs X 10 cols\n"
     ]
    },
    {
     "data": {
      "application/vnd.jupyter.widget-view+json": {
       "model_id": "071d0c9ca436408699ee87067aaecf0f",
       "version_major": 2,
       "version_minor": 0
      },
      "text/plain": [
       "  0%|          | 0/380 [00:00<?, ?it/s]"
      ]
     },
     "metadata": {},
     "output_type": "display_data"
    },
    {
     "name": "stdout",
     "output_type": "stream",
     "text": [
      "Added 0 new docs\n",
      "Added 0 new cols\n",
      "\n"
     ]
    },
    {
     "data": {
      "text/plain": [
       "True"
      ]
     },
     "execution_count": 20,
     "metadata": {},
     "output_type": "execute_result"
    }
   ],
   "source": [
    "get_bootstrap_static()"
   ]
  }
 ],
 "metadata": {
  "kernelspec": {
   "display_name": "fpl-data",
   "language": "python",
   "name": "python3"
  },
  "language_info": {
   "codemirror_mode": {
    "name": "ipython",
    "version": 3
   },
   "file_extension": ".py",
   "mimetype": "text/x-python",
   "name": "python",
   "nbconvert_exporter": "python",
   "pygments_lexer": "ipython3",
   "version": "3.9.16"
  },
  "orig_nbformat": 4
 },
 "nbformat": 4,
 "nbformat_minor": 2
}
